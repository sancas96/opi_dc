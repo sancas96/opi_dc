{
 "cells": [
  {
   "cell_type": "markdown",
   "id": "32b645da-d1bc-47fd-8c26-75278c387f8d",
   "metadata": {},
   "source": [
    "# Sección B"
   ]
  },
  {
   "cell_type": "markdown",
   "id": "399dff04-0fac-41a2-b3fb-95c00074c4a2",
   "metadata": {},
   "source": [
    "La Michoacana"
   ]
  },
  {
   "cell_type": "markdown",
   "id": "aa2363c0-b236-4b28-a5c8-d1fa3ddb05d7",
   "metadata": {},
   "source": [
    "Hace algunos años, la nevería La Michoacana decidió hacer un cambio radical en su forma de operar. En lugar de neverías tradicionales, La Michoacana decidió instalar 4,000 máquinas expendedoras de paletas dentro de la Ciudad de México. Además de eso, decidió implementar un sistema de suscripción para las máquinas expendedoras. Es decir, en lugar de pagar por cada paleta, los clientes pagan una suscripción mensual fija por tener acceso a cuántas paletas quieran, cuando quieran. Las paletas se hacen en una planta que tiene un congelador central, desde el cual las paletas se distribuyen a las máquinas expendedoras en camiones refrigerados de una capacidad muy grande.\n",
    "\n",
    "Las máquinas expendedoras tienen la peculiaridad de que el gasto energético depende de la cantidad de paletas que estén en la máquina, pues cada una se congela en un pequeño cajón. El costo de mantener una paleta por un día es de `$1`. El transporte de las paletas desde el congelador central a cada máquina expendedora tiene un costo fijo de $100 por viaje a una máquina y cada máquina no puede ser surtida más de una vez al día.\n",
    "\n",
    "Cada mañana, Luis, el jefe de operaciones, debe decidir qué máquinas expendedoras serán surtidas esa misma mañana y cuántas paletas deben ir a cada máquina expendedora que será surtida. Luis quiere mantener los costos de transporte y de energía bajos pero al mismo tiempo no quiere que existan muchos casos de máquinas sin paletas disponibles, pues los suscriptores podrían molestarse y abandonar el programa. Luis tiene el objetivo de mantener los costos de transporte y energía más bajos posibles y la cantidad de días/máquina donde hubo indisponibilidad de paletas menor a 2% al mes. Luis tiene total libertad todas las mañanas para elegir qué máquinas deben ser surtidas y cuántas paletas surtir en cada una. Para tomar esa decisión, Luis tiene, cada mañana, la siguiente información:"
   ]
  },
  {
   "cell_type": "markdown",
   "id": "10e57847-931d-472d-bf2a-b55a187a20d6",
   "metadata": {},
   "source": [
    "- La cantidad de paletas retiradas para cada máquina, cada día desde que empezó la operación (hace 5 años) hasta el día anterior.\n",
    "- La cantidad de paletas disponibles en cada máquina, cada día (a final del día, medianoche) desde que empezó la operación (hace 5 años) hasta el día anterior.\n",
    "- La capacidad, en cantidad de paletas, de cada máquina expendedora.\n",
    "- El costo de surtir cada máquina (`$100`)\n",
    "- El costo de mantener una paleta por un día en cualquier máquina expendedora (`$1`)\n",
    "- No hay límite de carga en los camiones repartidores"
   ]
  },
  {
   "cell_type": "markdown",
   "id": "1928ae0e-b0c8-4653-adff-84b407319477",
   "metadata": {},
   "source": [
    "Luis toma la decisión día con día de qué máquinas surtir y cuántas paletas surtir a cada una de ellas de forma bastante subjetiva, intuyendo que máquinas se quedarán sin paletas si no las surte y tratando de identificar una cantidad óptima de paletas para surtir cada una de ellas. Luis se ha dado cuenta de que se trata de un problema bastante complejo, donde existe una gran oportunidad de tomar mejores decisiones. Se ha dado cuenta de que, para cada máquina, la estrategia de llenar a tope la máquina expendedora y surtirla el día que observe que las paletas están apunto de acabarse para llenar de nuevo la máquina a tope tiene un costo muy alto de energía y un costo bajo de transporte. Se ha dado cuenta también de que, para cada máquina, hacer viajes diarios con el contenido de paletas necesarias para el siguiente día tiene un costo de energía bastante bajo pero un costo de transporte muy alto. Luis observa también que el consumo de paletas cambia mucho de máquina a máquina y día con día. Luis no tiene restricciones como mandar siempre la misma cantidad de paletas a una misma máquina o mandar paletas con frecuencia fija (e.g. cada 7 días). Dada esa libertad, entiende que se trata de un problema complejo pero que es la clave para lograr sus objetivos de mantener los costos de transporte y energía bajos sin superar su cota de indisponibilidad."
   ]
  },
  {
   "cell_type": "markdown",
   "id": "441ac693-bfd1-4272-b031-5296e98c352b",
   "metadata": {},
   "source": [
    "Con la información anterior, diseña una solución al problema.\n",
    "\n",
    "No existe una única solución válida al problema, buscamos entender cómo tú entiendes el problema y saber cómo lo resolverías.\n",
    "\n",
    "La respuesta puede ser textual, utilizando notación matemática, utilizando diagramas, pseudocódigo, un video explicando en un pizarrón, notas en una servilleta, algún otro medio o una mezcla de los anteriores, lo que tú creas que va a comunicar mejor tu planteamiento.\n",
    "\n",
    "Puedes guiar tu respuesta por las siguientes preguntas:\n",
    "\n",
    "- a. ¿De qué tipo de problema se trata?¿Tiene elementos comunes como regresión, clasificación, pronósticos de series de tiempo, clustering, optimización, etc?\n",
    "- b. ¿Cómo te imaginas una solución funcional al problema?¿De qué partes está conformada?¿Cómo interactúan esas partes?¿Qué supuestos y riesgos ves en tu planteamiento?\n",
    "- c. ¿Qué métodos o algoritmos utilizarías durante el desarrollo de esa solución?\n",
    "- d. ¿Qué métricas evaluarías durante el desarrollo de la solución?\n",
    "- e. ¿Cómo te imaginas el despliegue y la operación en producción de la solución?\n",
    "- f. ¿Cómo evaluarías si la solución tuvo un impacto positivo y fue exitosa?\n",
    "\n",
    "No respondas puntualmente las preguntas anteriores, sólo son una guía que puedes usar para la narrativa de tu respuesta. Lo que más nos interesa es entender de forma coherente, completa y clara tu planteamiento del problema y tu diseño de solución. Esperamos poder leer tu respuesta y que nos comunique algo similar a que si hicieras una presentación de tu entendimiento del problema y diseño de solución al equipo de ciencia de datos de OPI."
   ]
  },
  {
   "cell_type": "markdown",
   "id": "c32ac340-e914-43b4-87ba-c3356d377fc0",
   "metadata": {},
   "source": [
    "## Respuesta:"
   ]
  },
  {
   "cell_type": "markdown",
   "id": "9a65c46f-7413-4bc6-8e7e-6bb1581aed74",
   "metadata": {},
   "source": [
    "Todo esto lo podemos ver como un problema de optimizacion, en donde la prioridad es el maximo flujo de paletas posbiles en el dia, optimizando el transporte y todo lo que conlleva. miendante un modelo de redes podemos modelar las distrubiciones de maximo flujo o minimo gasto.\n",
    "\n",
    "Podemos tambien hacer un seguimiento de todo la operativa, esto es, con las paletas retiradas, las disponibles y el registro de las capacidades de cada maquina, para despues justo hacer pronosticos con regresiones o series de tiempo sobre las cantidades de paletas necesarias en diversos puntos donde se encuentren las maquinas expendedoras. Pensando en una posible expansion de las maquinas expendedoras o en todo caso el retiro de las mismas. Tambien proyecciones sobre los gastos de produccion y distribucion y ganancias de las ventas.\n",
    "\n",
    "Los metodos a usar pueden ser desde regresiones basicas para tener modelos base simples, hasta quiz'a aprendizaje maquina para las proyecciones y pronosticos.\n",
    "\n",
    "Monitorear mediante metricas \n",
    "- como tiempo en el que todas las maquinas son visitadas y llenadas para tener en cuenta el tiempo minimo para tener todos los puntos listos.\n",
    "- maximas cantidades de paletas que estamos capacitados en transportar o surtir\n",
    "\n",
    "\n",
    "Para poder llevar a cabo todo esto tendriamos primero que revisar la base de datos disponible, con el inventario de la empresa ya listo, comenzar \n",
    "Establecer prioridades, tiempos y metas.\n",
    "ya en produccion una actualizacion en tiempo real sobre el flujo de las ventas.\n",
    "\n",
    "observando siempre si las ventas aumentan y/o los costos disminuyen.\n"
   ]
  },
  {
   "cell_type": "code",
   "execution_count": null,
   "id": "bfd16a9f-655f-432b-9b4d-2d9eaabeb00a",
   "metadata": {},
   "outputs": [],
   "source": []
  }
 ],
 "metadata": {
  "kernelspec": {
   "display_name": "Python 3 (ipykernel)",
   "language": "python",
   "name": "python3"
  },
  "language_info": {
   "codemirror_mode": {
    "name": "ipython",
    "version": 3
   },
   "file_extension": ".py",
   "mimetype": "text/x-python",
   "name": "python",
   "nbconvert_exporter": "python",
   "pygments_lexer": "ipython3",
   "version": "3.8.10"
  }
 },
 "nbformat": 4,
 "nbformat_minor": 5
}
